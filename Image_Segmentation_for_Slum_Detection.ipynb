{
  "nbformat": 4,
  "nbformat_minor": 0,
  "metadata": {
    "colab": {
      "name": "Image Segmentation for Slum Detection.ipynb",
      "provenance": []
    },
    "kernelspec": {
      "name": "python3",
      "display_name": "Python 3"
    },
    "language_info": {
      "name": "python"
    }
  },
  "cells": [
    {
      "cell_type": "markdown",
      "source": [
        "**Image segmentation for slum detection and mapping**"
      ],
      "metadata": {
        "id": "jYwVljUL3Axs"
      }
    },
    {
      "cell_type": "markdown",
      "source": [
        "**Introduction**\n",
        "\n",
        "Urban areas are characterized by high population. In recent years, rural-urban migration has contributed to rapid growth of urban population, consequently resulting in the mushrooming of slums. These slums are characterized by poor housing and sanitation, absence of clean water, electricity and other basic necessities. There is need to acquire spatial information to accurately determine the geographic location of these slum areas, to allow the local governments and concerned bodies formulate slum rehabilitation policies.   "
      ],
      "metadata": {
        "id": "atc4CIrX3A0j"
      }
    },
    {
      "cell_type": "markdown",
      "source": [
        "**Aim**\n",
        "\n",
        "The aim of this project is to research about Deep Neural Networks, then design, develop and deploy a DNN model for delineating and mapping slum areas within Kenyan cities from Sentinel 2 satellites."
      ],
      "metadata": {
        "id": "a5rLYxKz4sJi"
      }
    },
    {
      "cell_type": "markdown",
      "source": [
        "**Objectives**\n",
        "\n",
        "\n",
        "\n",
        "1.   To research about the use of DNNs in image segmentation from existing literature.\n",
        "2.   To use the information acquired to determine the best solution for resolving the research problem.\n",
        "1.   To acquire the necessary Sentinel 2 Images from Copernicus website.\n",
        "2.   Design, develop and deploy a DNN model for delineating slums from Sentinel 2 images\n",
        "\n",
        "\n",
        "\n"
      ],
      "metadata": {
        "id": "T48hQ0ZW5YIg"
      }
    },
    {
      "cell_type": "markdown",
      "source": [
        ""
      ],
      "metadata": {
        "id": "_FTm5M6h51zK"
      }
    }
  ]
}